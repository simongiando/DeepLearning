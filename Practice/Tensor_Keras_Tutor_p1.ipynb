{
  "nbformat": 4,
  "nbformat_minor": 0,
  "metadata": {
    "colab": {
      "provenance": [],
      "authorship_tag": "ABX9TyPg0MhwzJ9N5wAGwyL/4eI8",
      "include_colab_link": true
    },
    "kernelspec": {
      "name": "python3",
      "display_name": "Python 3"
    },
    "language_info": {
      "name": "python"
    }
  },
  "cells": [
    {
      "cell_type": "markdown",
      "metadata": {
        "id": "view-in-github",
        "colab_type": "text"
      },
      "source": [
        "<a href=\"https://colab.research.google.com/github/simongiando/DeepLearning/blob/main/Practice/Tensor_Keras_Tutor_p1.ipynb\" target=\"_parent\"><img src=\"https://colab.research.google.com/assets/colab-badge.svg\" alt=\"Open In Colab\"/></a>"
      ]
    },
    {
      "cell_type": "code",
      "source": [
        "## Import all the needed libraries\n",
        "import tensorflow as tf\n",
        "import matplotlib.pyplot as plt\n",
        "import numpy as np "
      ],
      "metadata": {
        "id": "ln9U9t4yyz56"
      },
      "execution_count": null,
      "outputs": []
    },
    {
      "cell_type": "code",
      "source": [
        "## Check tensor flow version\n",
        "tf.__version__"
      ],
      "metadata": {
        "id": "WRqv8m6GzSrj",
        "outputId": "8396842f-ab61-4f4b-c6d6-bcaf63ce45b9",
        "colab": {
          "base_uri": "https://localhost:8080/",
          "height": 35
        }
      },
      "execution_count": null,
      "outputs": [
        {
          "output_type": "execute_result",
          "data": {
            "text/plain": [
              "'2.8.2'"
            ],
            "application/vnd.google.colaboratory.intrinsic+json": {
              "type": "string"
            }
          },
          "metadata": {},
          "execution_count": 9
        }
      ]
    },
    {
      "cell_type": "markdown",
      "source": [
        "Using the exisiting data for tensorflow exercise which is 28x28 images of hand-written digits 0-9 "
      ],
      "metadata": {
        "id": "lOJ9PCXLzahO"
      }
    },
    {
      "cell_type": "code",
      "source": [
        "mnist = tf.keras.datasets.mnist \n",
        "\n",
        "## Unpack the dataset\n",
        "(x_train,y_train), (x_test,y_test) = mnist.load_data()"
      ],
      "metadata": {
        "id": "6sHBsN2KzW5d"
      },
      "execution_count": null,
      "outputs": []
    },
    {
      "cell_type": "code",
      "source": [
        "plt.imshow(x_train[2])\n",
        "plt.show()"
      ],
      "metadata": {
        "id": "ZaLNOPiyzzOk",
        "outputId": "7d146ea4-b05c-45f6-aed0-baff2e5125cb",
        "colab": {
          "base_uri": "https://localhost:8080/",
          "height": 265
        }
      },
      "execution_count": null,
      "outputs": [
        {
          "output_type": "display_data",
          "data": {
            "text/plain": [
              "<Figure size 432x288 with 1 Axes>"
            ],
            "image/png": "[encoded data removed]"
          },
          "metadata": {
            "needs_background": "light"
          }
        }
      ]
    },
    {
      "cell_type": "code",
      "source": [
        "plt.imshow(x_train[2],cmap=plt.cm.binary)\n",
        "plt.show()"
      ],
      "metadata": {
        "id": "E4c5vw3j0LhK",
        "outputId": "9b291c6d-a8c8-4286-f693-2027b75cbfd6",
        "colab": {
          "base_uri": "https://localhost:8080/",
          "height": 265
        }
      },
      "execution_count": null,
      "outputs": [
        {
          "output_type": "display_data",
          "data": {
            "text/plain": [
              "<Figure size 432x288 with 1 Axes>"
            ],
            "image/png": "[encoded data removed]"
          },
          "metadata": {
            "needs_background": "light"
          }
        }
      ]
    },
    {
      "cell_type": "code",
      "source": [
        "## Print the data\n",
        "# print (x_train)"
      ],
      "metadata": {
        "id": "zrQW46nT0SSh"
      },
      "execution_count": null,
      "outputs": []
    },
    {
      "cell_type": "code",
      "source": [
        "## Normalization or scaling\n",
        "x_train = tf.keras.utils.normalize (x_train, axis = 1)\n",
        "x_test = tf.keras.utils.normalize (x_test, axis = 1)"
      ],
      "metadata": {
        "id": "IUnqWHPy0Yai"
      },
      "execution_count": null,
      "outputs": []
    },
    {
      "cell_type": "code",
      "source": [
        "plt.imshow(x_train[2])\n",
        "plt.show()"
      ],
      "metadata": {
        "id": "Nw3nxl_Q0s3i",
        "outputId": "cfad6932-81d6-46f7-b311-d73af8c50a75",
        "colab": {
          "base_uri": "https://localhost:8080/",
          "height": 265
        }
      },
      "execution_count": null,
      "outputs": [
        {
          "output_type": "display_data",
          "data": {
            "text/plain": [
              "<Figure size 432x288 with 1 Axes>"
            ],
            "image/png": "[encoded data removed]"
          },
          "metadata": {
            "needs_background": "light"
          }
        }
      ]
    },
    {
      "cell_type": "code",
      "source": [
        "plt.imshow(x_test[2])\n",
        "plt.show()"
      ],
      "metadata": {
        "id": "mM-sZToo07FS",
        "outputId": "1a3b0f00-07d9-46ab-b693-1f0d4ac79c48",
        "colab": {
          "base_uri": "https://localhost:8080/",
          "height": 265
        }
      },
      "execution_count": null,
      "outputs": [
        {
          "output_type": "display_data",
          "data": {
            "text/plain": [
              "<Figure size 432x288 with 1 Axes>"
            ],
            "image/png": "[encoded data removed]"
          },
          "metadata": {
            "needs_background": "light"
          }
        }
      ]
    },
    {
      "cell_type": "code",
      "source": [
        "## Build the model\n",
        "model = tf.keras.models.Sequential()\n",
        "model.add(tf.keras.layers.Flatten())\n",
        "model.add(tf.keras.layers.Dense(128,activation=tf.nn.relu))\n",
        "model.add(tf.keras.layers.Dense(128,activation=tf.nn.relu))\n",
        "model.add(tf.keras.layers.Dense(10,activation=tf.nn.softmax))\n",
        "\n",
        "model.compile (optimizer='adam',\n",
        "               loss='sparse_categorical_crossentropy',\n",
        "               metrics=['accuracy'])\n",
        "\n",
        "model.fit (x_train,y_train,epochs=3)"
      ],
      "metadata": {
        "id": "DEARA--91FaB",
        "outputId": "4ceeba25-9951-4641-ec51-424502e42a78",
        "colab": {
          "base_uri": "https://localhost:8080/"
        }
      },
      "execution_count": null,
      "outputs": [
        {
          "output_type": "stream",
          "name": "stdout",
          "text": [
            "Epoch 1/3\n",
            "1875/1875 [==============================] - 5s 2ms/step - loss: 0.2641 - accuracy: 0.9229\n",
            "Epoch 2/3\n",
            "1875/1875 [==============================] - 5s 2ms/step - loss: 0.1087 - accuracy: 0.9667\n",
            "Epoch 3/3\n",
            "1875/1875 [==============================] - 5s 2ms/step - loss: 0.0737 - accuracy: 0.9768\n"
          ]
        },
        {
          "output_type": "execute_result",
          "data": {
            "text/plain": [
              "<keras.callbacks.History at 0x7ff7a8d1c710>"
            ]
          },
          "metadata": {},
          "execution_count": 23
        }
      ]
    },
    {
      "cell_type": "code",
      "source": [
        "## Print the accuracy of the model\n",
        "val_loss,val_acc = model.evaluate(x_test,y_test)\n",
        "print (val_loss,val_acc)"
      ],
      "metadata": {
        "id": "v4-7A0hV2d5D",
        "outputId": "e5963d6c-c56d-4e16-88d6-ccbd2b6a3762",
        "colab": {
          "base_uri": "https://localhost:8080/"
        }
      },
      "execution_count": null,
      "outputs": [
        {
          "output_type": "stream",
          "name": "stdout",
          "text": [
            "313/313 [==============================] - 1s 2ms/step - loss: 0.1010 - accuracy: 0.9693\n",
            "0.10104509443044662 0.9692999720573425\n"
          ]
        }
      ]
    },
    {
      "cell_type": "code",
      "source": [
        "## Save the model\n",
        "model.save('myfirstDL_num_reader.model')"
      ],
      "metadata": {
        "id": "XsIYHqCL242S"
      },
      "execution_count": null,
      "outputs": []
    },
    {
      "cell_type": "code",
      "source": [
        "## Reload the saved model\n",
        "new_model = tf.keras.models.load_model('myfirstDL_num_reader.model')"
      ],
      "metadata": {
        "id": "TdVWJMvU3M3B"
      },
      "execution_count": null,
      "outputs": []
    },
    {
      "cell_type": "code",
      "source": [
        "## Predict using your developed model, prediction always in list\n",
        "predictions = new_model.predict([x_test])"
      ],
      "metadata": {
        "id": "Sn_jUMeB3eEb"
      },
      "execution_count": null,
      "outputs": []
    },
    {
      "cell_type": "code",
      "source": [
        "print (predictions)"
      ],
      "metadata": {
        "id": "pVObbZQd4wEq",
        "outputId": "353aa796-aa64-4792-8b6e-80816621e20e",
        "colab": {
          "base_uri": "https://localhost:8080/"
        }
      },
      "execution_count": null,
      "outputs": [
        {
          "output_type": "stream",
          "name": "stdout",
          "text": [
            "[[1.3545408e-09 9.4467556e-10 4.4599088e-07 ... 9.9994504e-01\n",
            "  6.2032584e-09 8.2841474e-08]\n",
            " [2.9555045e-08 9.4163470e-04 9.9904865e-01 ... 1.9469513e-09\n",
            "  3.5193683e-08 1.1705516e-10]\n",
            " [6.3334483e-07 9.9917859e-01 5.7994141e-05 ... 2.7371576e-04\n",
            "  3.9082186e-04 2.9330793e-06]\n",
            " ...\n",
            " [1.4547728e-08 3.0058038e-07 2.7698420e-07 ... 1.2962078e-04\n",
            "  1.2418870e-05 1.8446201e-05]\n",
            " [4.1820331e-06 4.6610077e-07 3.1859528e-08 ... 5.9341710e-06\n",
            "  6.0103461e-04 1.4029735e-07]\n",
            " [3.8610384e-07 1.8030586e-07 2.9774171e-07 ... 1.6880999e-09\n",
            "  9.0985742e-07 3.7886508e-10]]\n"
          ]
        }
      ]
    },
    {
      "cell_type": "code",
      "source": [
        "## Use numpy instead to get the prediction result\n",
        "print (np.argmax(predictions[0]))"
      ],
      "metadata": {
        "id": "mxZRBYcV4yN3",
        "outputId": "79dac66c-dd82-4b8c-c2fe-08abed614797",
        "colab": {
          "base_uri": "https://localhost:8080/"
        }
      },
      "execution_count": null,
      "outputs": [
        {
          "output_type": "stream",
          "name": "stdout",
          "text": [
            "7\n"
          ]
        }
      ]
    },
    {
      "cell_type": "code",
      "source": [
        "plt.imshow(x_test[0])\n",
        "plt.show"
      ],
      "metadata": {
        "id": "5frzMvJJ47aL",
        "outputId": "888821c8-8e85-4620-a9a4-2ce4000da9f2",
        "colab": {
          "base_uri": "https://localhost:8080/",
          "height": 282
        }
      },
      "execution_count": null,
      "outputs": [
        {
          "output_type": "execute_result",
          "data": {
            "text/plain": [
              "<function matplotlib.pyplot.show(*args, **kw)>"
            ]
          },
          "metadata": {},
          "execution_count": 35
        },
        {
          "output_type": "display_data",
          "data": {
            "text/plain": [
              "<Figure size 432x288 with 1 Axes>"
            ],
            "image/png": "[encoded data removed]"
          },
          "metadata": {
            "needs_background": "light"
          }
        }
      ]
    },
    {
      "cell_type": "code",
      "source": [
        "print (np.argmax(predictions[2]))"
      ],
      "metadata": {
        "id": "wSvjHi0U5Xs6",
        "outputId": "e1288e4d-f813-49c8-9106-1ef2bb3d60cc",
        "colab": {
          "base_uri": "https://localhost:8080/"
        }
      },
      "execution_count": null,
      "outputs": [
        {
          "output_type": "stream",
          "name": "stdout",
          "text": [
            "1\n"
          ]
        }
      ]
    },
    {
      "cell_type": "code",
      "source": [
        "plt.imshow(x_test[2])\n",
        "plt.show"
      ],
      "metadata": {
        "id": "m11yyfFj5ahy",
        "outputId": "c9efefee-acd1-49d9-f0c7-9045515a98b4",
        "colab": {
          "base_uri": "https://localhost:8080/",
          "height": 282
        }
      },
      "execution_count": null,
      "outputs": [
        {
          "output_type": "execute_result",
          "data": {
            "text/plain": [
              "<function matplotlib.pyplot.show(*args, **kw)>"
            ]
          },
          "metadata": {},
          "execution_count": 37
        },
        {
          "output_type": "display_data",
          "data": {
            "text/plain": [
              "<Figure size 432x288 with 1 Axes>"
            ],
            "image/png": "[encoded data removed]"
          },
          "metadata": {
            "needs_background": "light"
          }
        }
      ]
    }
  ]
}